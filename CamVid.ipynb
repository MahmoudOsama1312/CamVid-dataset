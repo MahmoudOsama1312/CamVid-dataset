{
 "cells": [
  {
   "cell_type": "code",
   "execution_count": 1,
   "metadata": {},
   "outputs": [
    {
     "name": "stderr",
     "output_type": "stream",
     "text": [
      "C:\\Users\\Mahmoud Montaser\\anaconda3\\lib\\site-packages\\numpy\\_distributor_init.py:30: UserWarning: loaded more than 1 DLL from .libs:\n",
      "C:\\Users\\Mahmoud Montaser\\anaconda3\\lib\\site-packages\\numpy\\.libs\\libopenblas.WCDJNK7YVMPZQ2ME2ZZHJJRJ3JIKNDB7.gfortran-win_amd64.dll\n",
      "C:\\Users\\Mahmoud Montaser\\anaconda3\\lib\\site-packages\\numpy\\.libs\\libopenblas.XWYDX2IKJW2NMTWSFYNGFUWKQU3LYTCZ.gfortran-win_amd64.dll\n",
      "  warnings.warn(\"loaded more than 1 DLL from .libs:\"\n"
     ]
    }
   ],
   "source": [
    "import os\n",
    "import numpy as np\n",
    "from keras.preprocessing.image import load_img\n",
    "from tensorflow.keras.preprocessing.image import ImageDataGenerator"
   ]
  },
  {
   "cell_type": "code",
   "execution_count": 2,
   "metadata": {},
   "outputs": [],
   "source": [
    "view = 0\n",
    "batch_sz = 4\n",
    "epochs = 1\n",
    "steps_per_epoch = 1000\n",
    "validation_steps = 100"
   ]
  },
  {
   "cell_type": "markdown",
   "metadata": {},
   "source": [
    "## Load Your Data :"
   ]
  },
  {
   "cell_type": "code",
   "execution_count": 3,
   "metadata": {},
   "outputs": [],
   "source": [
    "## reading and storing data\n",
    "IMG_WIDTH=256\n",
    "IMG_HEIGHT=256\n",
    "NO_CHANNELS=3\n",
    "\n",
    "train_imgs = 'train'                   # path of the train images\n",
    "train_labels = 'train_labels/'         # Path of the Labels Images ( Masks )\n",
    "\n",
    "val_imgs = \"val\"\n",
    "val_labels = \"val_labels\"\n",
    "\n",
    "test = \"test\"\n",
    "test_labels=\"test_labels\"\n",
    "\n",
    "xtrain_ids = os.listdir(os.path.join(train_imgs))          # to read the images ids\n",
    "ytrain_ids =os.listdir(os.path.join(train_labels))\n",
    "\n",
    "xval_ids = os.listdir(os.path.join(val_imgs))\n",
    "yval_ids= os.listdir(os.path.join(val_labels))\n",
    "\n",
    "test_ids = os.listdir(os.path.join(test))\n",
    "\n",
    "X_train = np.zeros((len(xtrain_ids),IMG_WIDTH,IMG_HEIGHT,NO_CHANNELS),dtype='float32') ## Empty Numpy arrays\n",
    "#print(X_train)\n",
    "Y_train = np.zeros((len(ytrain_ids),IMG_WIDTH,IMG_HEIGHT,NO_CHANNELS),dtype='float32')\n",
    "\n",
    "X_val = np.zeros((len(xval_ids),IMG_WIDTH,IMG_HEIGHT,NO_CHANNELS),dtype='float32')\n",
    "Y_val = np.zeros((len(yval_ids),IMG_WIDTH,IMG_HEIGHT,NO_CHANNELS),dtype='float32')\n",
    "\n",
    "xTest = np.zeros((len(test_ids),IMG_WIDTH,IMG_HEIGHT,NO_CHANNELS),dtype='float32')"
   ]
  },
  {
   "cell_type": "code",
   "execution_count": 4,
   "metadata": {},
   "outputs": [
    {
     "data": {
      "text/plain": [
       "(369, 256, 256, 3)"
      ]
     },
     "execution_count": 4,
     "metadata": {},
     "output_type": "execute_result"
    }
   ],
   "source": [
    "X_train.shape"
   ]
  },
  {
   "cell_type": "code",
   "execution_count": 5,
   "metadata": {},
   "outputs": [
    {
     "name": "stdout",
     "output_type": "stream",
     "text": [
      "369\n",
      "369\n"
     ]
    }
   ],
   "source": [
    "print(len(xtrain_ids))\n",
    "print(len(ytrain_ids))"
   ]
  },
  {
   "cell_type": "code",
   "execution_count": 6,
   "metadata": {},
   "outputs": [
    {
     "name": "stdout",
     "output_type": "stream",
     "text": [
      "Number of train frames: 369\n",
      "Number of train labels: 369\n",
      "Number of val frames: 100\n",
      "Number of val labels: 100\n",
      "Number of test frames: 232\n",
      "Number of test labels: 232\n",
      "Total frames: 701\n"
     ]
    }
   ],
   "source": [
    "print('Number of train frames: ' + str(len(os.listdir('train'))))\n",
    "print('Number of train labels: ' + str(len(os.listdir('train_labels'))))\n",
    "print('Number of val frames: ' + str(len(os.listdir('val'))))\n",
    "print('Number of val labels: ' + str(len(os.listdir('val_labels'))))\n",
    "print('Number of test frames: ' + str(len(os.listdir('test'))))\n",
    "print('Number of test labels: ' + str(len(os.listdir('test_labels'))))\n",
    "print('Total frames: ' + str(len(os.listdir('train')) + len(os.listdir('val')) + len(os.listdir('test'))))"
   ]
  },
  {
   "cell_type": "markdown",
   "metadata": {},
   "source": [
    "## For Train :"
   ]
  },
  {
   "cell_type": "code",
   "execution_count": 7,
   "metadata": {},
   "outputs": [],
   "source": [
    "def adjust_mask(mask, flat=False):\n",
    "    \n",
    "    semantic_map = []\n",
    "    for colour in list(cls2rgb.values()):  # values bte3et el classes el fel dictionary\n",
    "        \n",
    "        equality = np.equal(mask, colour)          # 256x256x3 with True or False\n",
    "        class_map = np.all(equality, axis = -1)     # 256x256 If all True, then True, else False\n",
    "        semantic_map.append(class_map) # List of 256x256 arrays, map of True for a given found color at the pixel, and False otherwise.\n",
    "    semantic_map = np.stack(semantic_map, axis=-1)   # 256x256x32 True only at the found color, and all False otherwise.\n",
    "    if flat:\n",
    "        semantic_map = np.reshape(semantic_map, (-1,256*256))\n",
    "\n",
    "    return np.float32(semantic_map)# convert to numbers"
   ]
  },
  {
   "cell_type": "code",
   "execution_count": null,
   "metadata": {},
   "outputs": [],
   "source": []
  },
  {
   "cell_type": "code",
   "execution_count": null,
   "metadata": {},
   "outputs": [],
   "source": []
  },
  {
   "cell_type": "code",
   "execution_count": null,
   "metadata": {},
   "outputs": [],
   "source": []
  },
  {
   "cell_type": "markdown",
   "metadata": {},
   "source": [
    "## For Validation Data :"
   ]
  },
  {
   "cell_type": "code",
   "execution_count": null,
   "metadata": {},
   "outputs": [],
   "source": []
  },
  {
   "cell_type": "code",
   "execution_count": null,
   "metadata": {},
   "outputs": [],
   "source": []
  },
  {
   "cell_type": "code",
   "execution_count": null,
   "metadata": {},
   "outputs": [],
   "source": []
  },
  {
   "cell_type": "code",
   "execution_count": null,
   "metadata": {},
   "outputs": [],
   "source": []
  },
  {
   "cell_type": "code",
   "execution_count": 8,
   "metadata": {},
   "outputs": [
    {
     "data": {
      "text/html": [
       "<div>\n",
       "<style scoped>\n",
       "    .dataframe tbody tr th:only-of-type {\n",
       "        vertical-align: middle;\n",
       "    }\n",
       "\n",
       "    .dataframe tbody tr th {\n",
       "        vertical-align: top;\n",
       "    }\n",
       "\n",
       "    .dataframe thead th {\n",
       "        text-align: right;\n",
       "    }\n",
       "</style>\n",
       "<table border=\"1\" class=\"dataframe\">\n",
       "  <thead>\n",
       "    <tr style=\"text-align: right;\">\n",
       "      <th></th>\n",
       "      <th>r</th>\n",
       "      <th>g</th>\n",
       "      <th>b</th>\n",
       "    </tr>\n",
       "    <tr>\n",
       "      <th>name</th>\n",
       "      <th></th>\n",
       "      <th></th>\n",
       "      <th></th>\n",
       "    </tr>\n",
       "  </thead>\n",
       "  <tbody>\n",
       "    <tr>\n",
       "      <th>Animal</th>\n",
       "      <td>64</td>\n",
       "      <td>128</td>\n",
       "      <td>64</td>\n",
       "    </tr>\n",
       "    <tr>\n",
       "      <th>Archway</th>\n",
       "      <td>192</td>\n",
       "      <td>0</td>\n",
       "      <td>128</td>\n",
       "    </tr>\n",
       "    <tr>\n",
       "      <th>Bicyclist</th>\n",
       "      <td>0</td>\n",
       "      <td>128</td>\n",
       "      <td>192</td>\n",
       "    </tr>\n",
       "    <tr>\n",
       "      <th>Bridge</th>\n",
       "      <td>0</td>\n",
       "      <td>128</td>\n",
       "      <td>64</td>\n",
       "    </tr>\n",
       "    <tr>\n",
       "      <th>Building</th>\n",
       "      <td>128</td>\n",
       "      <td>0</td>\n",
       "      <td>0</td>\n",
       "    </tr>\n",
       "    <tr>\n",
       "      <th>Car</th>\n",
       "      <td>64</td>\n",
       "      <td>0</td>\n",
       "      <td>128</td>\n",
       "    </tr>\n",
       "    <tr>\n",
       "      <th>CartLuggagePram</th>\n",
       "      <td>64</td>\n",
       "      <td>0</td>\n",
       "      <td>192</td>\n",
       "    </tr>\n",
       "    <tr>\n",
       "      <th>Child</th>\n",
       "      <td>192</td>\n",
       "      <td>128</td>\n",
       "      <td>64</td>\n",
       "    </tr>\n",
       "    <tr>\n",
       "      <th>Column_Pole</th>\n",
       "      <td>192</td>\n",
       "      <td>192</td>\n",
       "      <td>128</td>\n",
       "    </tr>\n",
       "    <tr>\n",
       "      <th>Fence</th>\n",
       "      <td>64</td>\n",
       "      <td>64</td>\n",
       "      <td>128</td>\n",
       "    </tr>\n",
       "    <tr>\n",
       "      <th>LaneMkgsDriv</th>\n",
       "      <td>128</td>\n",
       "      <td>0</td>\n",
       "      <td>192</td>\n",
       "    </tr>\n",
       "    <tr>\n",
       "      <th>LaneMkgsNonDriv</th>\n",
       "      <td>192</td>\n",
       "      <td>0</td>\n",
       "      <td>64</td>\n",
       "    </tr>\n",
       "    <tr>\n",
       "      <th>Misc_Text</th>\n",
       "      <td>128</td>\n",
       "      <td>128</td>\n",
       "      <td>64</td>\n",
       "    </tr>\n",
       "    <tr>\n",
       "      <th>MotorcycleScooter</th>\n",
       "      <td>192</td>\n",
       "      <td>0</td>\n",
       "      <td>192</td>\n",
       "    </tr>\n",
       "    <tr>\n",
       "      <th>OtherMoving</th>\n",
       "      <td>128</td>\n",
       "      <td>64</td>\n",
       "      <td>64</td>\n",
       "    </tr>\n",
       "    <tr>\n",
       "      <th>ParkingBlock</th>\n",
       "      <td>64</td>\n",
       "      <td>192</td>\n",
       "      <td>128</td>\n",
       "    </tr>\n",
       "    <tr>\n",
       "      <th>Pedestrian</th>\n",
       "      <td>64</td>\n",
       "      <td>64</td>\n",
       "      <td>0</td>\n",
       "    </tr>\n",
       "    <tr>\n",
       "      <th>Road</th>\n",
       "      <td>128</td>\n",
       "      <td>64</td>\n",
       "      <td>128</td>\n",
       "    </tr>\n",
       "    <tr>\n",
       "      <th>RoadShoulder</th>\n",
       "      <td>128</td>\n",
       "      <td>128</td>\n",
       "      <td>192</td>\n",
       "    </tr>\n",
       "    <tr>\n",
       "      <th>Sidewalk</th>\n",
       "      <td>0</td>\n",
       "      <td>0</td>\n",
       "      <td>192</td>\n",
       "    </tr>\n",
       "    <tr>\n",
       "      <th>SignSymbol</th>\n",
       "      <td>192</td>\n",
       "      <td>128</td>\n",
       "      <td>128</td>\n",
       "    </tr>\n",
       "    <tr>\n",
       "      <th>Sky</th>\n",
       "      <td>128</td>\n",
       "      <td>128</td>\n",
       "      <td>128</td>\n",
       "    </tr>\n",
       "    <tr>\n",
       "      <th>SUVPickupTruck</th>\n",
       "      <td>64</td>\n",
       "      <td>128</td>\n",
       "      <td>192</td>\n",
       "    </tr>\n",
       "    <tr>\n",
       "      <th>TrafficCone</th>\n",
       "      <td>0</td>\n",
       "      <td>0</td>\n",
       "      <td>64</td>\n",
       "    </tr>\n",
       "    <tr>\n",
       "      <th>TrafficLight</th>\n",
       "      <td>0</td>\n",
       "      <td>64</td>\n",
       "      <td>64</td>\n",
       "    </tr>\n",
       "    <tr>\n",
       "      <th>Train</th>\n",
       "      <td>192</td>\n",
       "      <td>64</td>\n",
       "      <td>128</td>\n",
       "    </tr>\n",
       "    <tr>\n",
       "      <th>Tree</th>\n",
       "      <td>128</td>\n",
       "      <td>128</td>\n",
       "      <td>0</td>\n",
       "    </tr>\n",
       "    <tr>\n",
       "      <th>Truck_Bus</th>\n",
       "      <td>192</td>\n",
       "      <td>128</td>\n",
       "      <td>192</td>\n",
       "    </tr>\n",
       "    <tr>\n",
       "      <th>Tunnel</th>\n",
       "      <td>64</td>\n",
       "      <td>0</td>\n",
       "      <td>64</td>\n",
       "    </tr>\n",
       "    <tr>\n",
       "      <th>VegetationMisc</th>\n",
       "      <td>192</td>\n",
       "      <td>192</td>\n",
       "      <td>0</td>\n",
       "    </tr>\n",
       "    <tr>\n",
       "      <th>Void</th>\n",
       "      <td>0</td>\n",
       "      <td>0</td>\n",
       "      <td>0</td>\n",
       "    </tr>\n",
       "    <tr>\n",
       "      <th>Wall</th>\n",
       "      <td>64</td>\n",
       "      <td>192</td>\n",
       "      <td>0</td>\n",
       "    </tr>\n",
       "  </tbody>\n",
       "</table>\n",
       "</div>"
      ],
      "text/plain": [
       "                     r    g    b\n",
       "name                            \n",
       "Animal              64  128   64\n",
       "Archway            192    0  128\n",
       "Bicyclist            0  128  192\n",
       "Bridge               0  128   64\n",
       "Building           128    0    0\n",
       "Car                 64    0  128\n",
       "CartLuggagePram     64    0  192\n",
       "Child              192  128   64\n",
       "Column_Pole        192  192  128\n",
       "Fence               64   64  128\n",
       "LaneMkgsDriv       128    0  192\n",
       "LaneMkgsNonDriv    192    0   64\n",
       "Misc_Text          128  128   64\n",
       "MotorcycleScooter  192    0  192\n",
       "OtherMoving        128   64   64\n",
       "ParkingBlock        64  192  128\n",
       "Pedestrian          64   64    0\n",
       "Road               128   64  128\n",
       "RoadShoulder       128  128  192\n",
       "Sidewalk             0    0  192\n",
       "SignSymbol         192  128  128\n",
       "Sky                128  128  128\n",
       "SUVPickupTruck      64  128  192\n",
       "TrafficCone          0    0   64\n",
       "TrafficLight         0   64   64\n",
       "Train              192   64  128\n",
       "Tree               128  128    0\n",
       "Truck_Bus          192  128  192\n",
       "Tunnel              64    0   64\n",
       "VegetationMisc     192  192    0\n",
       "Void                 0    0    0\n",
       "Wall                64  192    0"
      ]
     },
     "execution_count": 8,
     "metadata": {},
     "output_type": "execute_result"
    }
   ],
   "source": [
    "import pandas as pd\n",
    "classes = pd.read_csv('class_dict.csv', index_col =0)\n",
    "\n",
    "classes\n",
    "\n"
   ]
  },
  {
   "cell_type": "code",
   "execution_count": null,
   "metadata": {},
   "outputs": [],
   "source": []
  },
  {
   "cell_type": "code",
   "execution_count": 9,
   "metadata": {},
   "outputs": [
    {
     "name": "stdout",
     "output_type": "stream",
     "text": [
      "32\n"
     ]
    }
   ],
   "source": [
    "n_classes= len(classes)\n",
    "print(n_classes)"
   ]
  },
  {
   "cell_type": "markdown",
   "metadata": {},
   "source": [
    "To access the colors, we can index the dataframe with its row index name using the .loc operation.  \n",
    "\n",
    "we do that 3lshan nst5dem el Class color da , w n apply it 3la el Picture , 3lshan n3rf kol pixel fel picture belongs to ay class "
   ]
  },
  {
   "cell_type": "code",
   "execution_count": 10,
   "metadata": {},
   "outputs": [],
   "source": [
    "cls2rgb = {cl:list(classes.loc[cl, :]) for cl in classes.index}"
   ]
  },
  {
   "cell_type": "code",
   "execution_count": 11,
   "metadata": {},
   "outputs": [
    {
     "data": {
      "text/plain": [
       "{'Animal': [64, 128, 64],\n",
       " 'Archway': [192, 0, 128],\n",
       " 'Bicyclist': [0, 128, 192],\n",
       " 'Bridge': [0, 128, 64],\n",
       " 'Building': [128, 0, 0],\n",
       " 'Car': [64, 0, 128],\n",
       " 'CartLuggagePram': [64, 0, 192],\n",
       " 'Child': [192, 128, 64],\n",
       " 'Column_Pole': [192, 192, 128],\n",
       " 'Fence': [64, 64, 128],\n",
       " 'LaneMkgsDriv': [128, 0, 192],\n",
       " 'LaneMkgsNonDriv': [192, 0, 64],\n",
       " 'Misc_Text': [128, 128, 64],\n",
       " 'MotorcycleScooter': [192, 0, 192],\n",
       " 'OtherMoving': [128, 64, 64],\n",
       " 'ParkingBlock': [64, 192, 128],\n",
       " 'Pedestrian': [64, 64, 0],\n",
       " 'Road': [128, 64, 128],\n",
       " 'RoadShoulder': [128, 128, 192],\n",
       " 'Sidewalk': [0, 0, 192],\n",
       " 'SignSymbol': [192, 128, 128],\n",
       " 'Sky': [128, 128, 128],\n",
       " 'SUVPickupTruck': [64, 128, 192],\n",
       " 'TrafficCone': [0, 0, 64],\n",
       " 'TrafficLight': [0, 64, 64],\n",
       " 'Train': [192, 64, 128],\n",
       " 'Tree': [128, 128, 0],\n",
       " 'Truck_Bus': [192, 128, 192],\n",
       " 'Tunnel': [64, 0, 64],\n",
       " 'VegetationMisc': [192, 192, 0],\n",
       " 'Void': [0, 0, 0],\n",
       " 'Wall': [64, 192, 0]}"
      ]
     },
     "execution_count": 11,
     "metadata": {},
     "output_type": "execute_result"
    }
   ],
   "source": [
    "cls2rgb"
   ]
  },
  {
   "cell_type": "markdown",
   "metadata": {},
   "source": [
    "## Now let's visualize and explore some samples:"
   ]
  },
  {
   "cell_type": "code",
   "execution_count": 12,
   "metadata": {},
   "outputs": [
    {
     "data": {
      "text/plain": [
       "<matplotlib.image.AxesImage at 0x276fb621880>"
      ]
     },
     "execution_count": 12,
     "metadata": {},
     "output_type": "execute_result"
    },
    {
     "data": {
      "image/png": "[encoded data removed]",
      "text/plain": [
       "<Figure size 432x288 with 1 Axes>"
      ]
     },
     "metadata": {
      "needs_background": "light"
     },
     "output_type": "display_data"
    }
   ],
   "source": [
    "from keras.preprocessing import image     \n",
    "import cv2\n",
    "import matplotlib.pyplot as plt\n",
    "\n",
    "\n",
    "img = image.load_img(\"train/0001TP_009210.png\")\n",
    "plt.imshow(img)"
   ]
  },
  {
   "cell_type": "code",
   "execution_count": null,
   "metadata": {},
   "outputs": [],
   "source": []
  },
  {
   "cell_type": "markdown",
   "metadata": {},
   "source": [
    "## Let's have a look on the masks (the ground truth)  ( Labels ) "
   ]
  },
  {
   "cell_type": "code",
   "execution_count": 13,
   "metadata": {},
   "outputs": [
    {
     "data": {
      "text/plain": [
       "<matplotlib.image.AxesImage at 0x276fd974850>"
      ]
     },
     "execution_count": 13,
     "metadata": {},
     "output_type": "execute_result"
    },
    {
     "data": {
      "image/png": "[encoded data removed]",
      "text/plain": [
       "<Figure size 432x288 with 1 Axes>"
      ]
     },
     "metadata": {
      "needs_background": "light"
     },
     "output_type": "display_data"
    }
   ],
   "source": [
    "mask  = image.load_img(\"train_labels/0001TP_009210_L.png\")\n",
    "plt.imshow(mask)"
   ]
  },
  {
   "cell_type": "code",
   "execution_count": null,
   "metadata": {},
   "outputs": [],
   "source": []
  },
  {
   "cell_type": "markdown",
   "metadata": {},
   "source": [
    "3lshan nshof el shape, lazem ne7wellha numpy "
   ]
  },
  {
   "cell_type": "code",
   "execution_count": 14,
   "metadata": {},
   "outputs": [
    {
     "data": {
      "text/plain": [
       "(720, 960, 3)"
      ]
     },
     "execution_count": 14,
     "metadata": {},
     "output_type": "execute_result"
    }
   ],
   "source": [
    "import numpy as np\n",
    "mask = np.array(mask)# Now colors are the same as in the dict, since keras load_img uses RGB order.\n",
    "mask.shape"
   ]
  },
  {
   "cell_type": "code",
   "execution_count": null,
   "metadata": {},
   "outputs": [],
   "source": []
  },
  {
   "cell_type": "markdown",
   "metadata": {},
   "source": [
    " AdjustMask  function : bet3addi 3la kol el pixels el fel mask , w tshof el R G B beta3 el pixel fe kol mask , w ted5ol fel dictionary da , w tshof kol pixel ana gebtaha  r g b bet3ha kam w tekarenha bel dictionary , w hat3ml 1 hot encoded vector , lw el pixel shabh class mo3yn , hatdelo 1 w el ba2i zeros ."
   ]
  },
  {
   "cell_type": "markdown",
   "metadata": {},
   "source": [
    " Also to Convert the Masks ( Labels ) from 3 channels , to 32 channels "
   ]
  },
  {
   "cell_type": "code",
   "execution_count": null,
   "metadata": {},
   "outputs": [],
   "source": []
  },
  {
   "cell_type": "code",
   "execution_count": 15,
   "metadata": {},
   "outputs": [],
   "source": [
    "new_mask = adjust_mask(mask)"
   ]
  },
  {
   "cell_type": "code",
   "execution_count": 16,
   "metadata": {},
   "outputs": [
    {
     "data": {
      "text/plain": [
       "(720, 960, 32)"
      ]
     },
     "execution_count": 16,
     "metadata": {},
     "output_type": "execute_result"
    }
   ],
   "source": [
    "new_mask.shape"
   ]
  },
  {
   "cell_type": "code",
   "execution_count": null,
   "metadata": {},
   "outputs": [],
   "source": []
  },
  {
   "cell_type": "markdown",
   "metadata": {},
   "source": [
    "## me7tag eni a7wel el yTrain , yVal "
   ]
  },
  {
   "cell_type": "code",
   "execution_count": null,
   "metadata": {},
   "outputs": [],
   "source": []
  },
  {
   "cell_type": "code",
   "execution_count": null,
   "metadata": {},
   "outputs": [],
   "source": []
  },
  {
   "cell_type": "markdown",
   "metadata": {},
   "source": [
    "## Apply el kalam da 3la kol el Masks    + 3lshan arg3 tani l 3 colors "
   ]
  },
  {
   "cell_type": "code",
   "execution_count": null,
   "metadata": {},
   "outputs": [],
   "source": []
  },
  {
   "cell_type": "code",
   "execution_count": 17,
   "metadata": {},
   "outputs": [
    {
     "data": {
      "text/plain": [
       "{0: array([ 64, 128,  64]),\n",
       " 1: array([192,   0, 128]),\n",
       " 2: array([  0, 128, 192]),\n",
       " 3: array([  0, 128,  64]),\n",
       " 4: array([128,   0,   0]),\n",
       " 5: array([ 64,   0, 128]),\n",
       " 6: array([ 64,   0, 192]),\n",
       " 7: array([192, 128,  64]),\n",
       " 8: array([192, 192, 128]),\n",
       " 9: array([ 64,  64, 128]),\n",
       " 10: array([128,   0, 192]),\n",
       " 11: array([192,   0,  64]),\n",
       " 12: array([128, 128,  64]),\n",
       " 13: array([192,   0, 192]),\n",
       " 14: array([128,  64,  64]),\n",
       " 15: array([ 64, 192, 128]),\n",
       " 16: array([64, 64,  0]),\n",
       " 17: array([128,  64, 128]),\n",
       " 18: array([128, 128, 192]),\n",
       " 19: array([  0,   0, 192]),\n",
       " 20: array([192, 128, 128]),\n",
       " 21: array([128, 128, 128]),\n",
       " 22: array([ 64, 128, 192]),\n",
       " 23: array([ 0,  0, 64]),\n",
       " 24: array([ 0, 64, 64]),\n",
       " 25: array([192,  64, 128]),\n",
       " 26: array([128, 128,   0]),\n",
       " 27: array([192, 128, 192]),\n",
       " 28: array([64,  0, 64]),\n",
       " 29: array([192, 192,   0]),\n",
       " 30: array([0, 0, 0]),\n",
       " 31: array([ 64, 192,   0])}"
      ]
     },
     "execution_count": 17,
     "metadata": {},
     "output_type": "execute_result"
    }
   ],
   "source": [
    "idx2rgb={idx:np.array(rgb) for idx, (cl, rgb) in enumerate(cls2rgb.items())}\n",
    "idx2rgb"
   ]
  },
  {
   "cell_type": "markdown",
   "metadata": {},
   "source": [
    "## To Convert the mask Back   from 32 channels  to 3 channels only like the original  "
   ]
  },
  {
   "cell_type": "code",
   "execution_count": 18,
   "metadata": {},
   "outputs": [],
   "source": [
    "# Map the idx back to rgb          # Hena  3lsh \n",
    "def map_class_to_rgb(p):\n",
    "  \n",
    "  return idx2rgb[p[0]]\n",
    "\n",
    "rgb_mask = np.apply_along_axis(map_class_to_rgb, -1, np.expand_dims(np.argmax(new_mask, axis=-1), -1))  \n",
    "\n",
    "## -1 means 3adad el masks kolha "
   ]
  },
  {
   "cell_type": "code",
   "execution_count": 19,
   "metadata": {},
   "outputs": [
    {
     "data": {
      "text/plain": [
       "<matplotlib.image.AxesImage at 0x276fd9e4820>"
      ]
     },
     "execution_count": 19,
     "metadata": {},
     "output_type": "execute_result"
    },
    {
     "data": {
      "image/png": "[encoded data removed]",
      "text/plain": [
       "<Figure size 432x288 with 1 Axes>"
      ]
     },
     "metadata": {
      "needs_background": "light"
     },
     "output_type": "display_data"
    }
   ],
   "source": [
    "plt.imshow(rgb_mask)"
   ]
  },
  {
   "cell_type": "code",
   "execution_count": null,
   "metadata": {},
   "outputs": [],
   "source": []
  },
  {
   "cell_type": "markdown",
   "metadata": {},
   "source": [
    " ## ---$$$- Build The Model ---###-  UNet   "
   ]
  },
  {
   "cell_type": "code",
   "execution_count": 20,
   "metadata": {},
   "outputs": [],
   "source": [
    "import numpy as np \n",
    "import os\n",
    "#import skimage.io as io\n",
    "#import skimage.transform as trans\n",
    "import numpy as np\n",
    "from keras.models import *\n",
    "from keras.layers import *\n",
    "from keras.optimizers import *\n",
    "from keras.callbacks import ModelCheckpoint, LearningRateScheduler\n",
    "from keras import backend as keras\n",
    "\n",
    "\n",
    "def unet(n_classes, pretrained_weights = None,input_size = (256,256,3), flat=False, ohe=True):\n",
    "    \n",
    "    inputs = Input(input_size)\n",
    "    conv1 = Conv2D(64, 3, activation = 'relu', padding = 'same', kernel_initializer = 'he_normal')(inputs)\n",
    "    conv1 = Conv2D(64, 3, activation = 'relu', padding = 'same', kernel_initializer = 'he_normal')(conv1)\n",
    "    pool1 = MaxPooling2D(pool_size=(2, 2))(conv1)\n",
    "    conv2 = Conv2D(128, 3, activation = 'relu', padding = 'same', kernel_initializer = 'he_normal')(pool1)\n",
    "    conv2 = Conv2D(128, 3, activation = 'relu', padding = 'same', kernel_initializer = 'he_normal')(conv2)\n",
    "    pool2 = MaxPooling2D(pool_size=(2, 2))(conv2)\n",
    "    conv3 = Conv2D(256, 3, activation = 'relu', padding = 'same', kernel_initializer = 'he_normal')(pool2)\n",
    "    conv3 = Conv2D(256, 3, activation = 'relu', padding = 'same', kernel_initializer = 'he_normal')(conv3)\n",
    "    pool3 = MaxPooling2D(pool_size=(2, 2))(conv3)\n",
    "    conv4 = Conv2D(512, 3, activation = 'relu', padding = 'same', kernel_initializer = 'he_normal')(pool3)\n",
    "    conv4 = Conv2D(512, 3, activation = 'relu', padding = 'same', kernel_initializer = 'he_normal')(conv4)\n",
    "    drop4 = Dropout(0.5)(conv4)\n",
    "    pool4 = MaxPooling2D(pool_size=(2, 2))(drop4)\n",
    "\n",
    "    conv5 = Conv2D(1024, 3, activation = 'relu', padding = 'same', kernel_initializer = 'he_normal')(pool4)\n",
    "    conv5 = Conv2D(1024, 3, activation = 'relu', padding = 'same', kernel_initializer = 'he_normal')(conv5)\n",
    "    drop5 = Dropout(0.5)(conv5)\n",
    "\n",
    "    up6 = Conv2D(512, 2, activation = 'relu', padding = 'same', kernel_initializer = 'he_normal')(UpSampling2D(size = (2,2))(drop5))\n",
    "    merge6 = concatenate([drop4,up6], axis = 3)\n",
    "    conv6 = Conv2D(512, 3, activation = 'relu', padding = 'same', kernel_initializer = 'he_normal')(merge6)\n",
    "    conv6 = Conv2D(512, 3, activation = 'relu', padding = 'same', kernel_initializer = 'he_normal')(conv6)\n",
    "\n",
    "    up7 = Conv2D(256, 2, activation = 'relu', padding = 'same', kernel_initializer = 'he_normal')(UpSampling2D(size = (2,2))(conv6))\n",
    "    merge7 = concatenate([conv3,up7], axis = 3)\n",
    "    conv7 = Conv2D(256, 3, activation = 'relu', padding = 'same', kernel_initializer = 'he_normal')(merge7)\n",
    "    conv7 = Conv2D(256, 3, activation = 'relu', padding = 'same', kernel_initializer = 'he_normal')(conv7)\n",
    "\n",
    "    up8 = Conv2D(128, 2, activation = 'relu', padding = 'same', kernel_initializer = 'he_normal')(UpSampling2D(size = (2,2))(conv7))\n",
    "    merge8 = concatenate([conv2,up8], axis = 3)\n",
    "    conv8 = Conv2D(128, 3, activation = 'relu', padding = 'same', kernel_initializer = 'he_normal')(merge8)\n",
    "    conv8 = Conv2D(128, 3, activation = 'relu', padding = 'same', kernel_initializer = 'he_normal')(conv8)\n",
    "\n",
    "    up9 = Conv2D(64, 2, activation = 'relu', padding = 'same', kernel_initializer = 'he_normal')(UpSampling2D(size = (2,2))(conv8))\n",
    "    merge9 = concatenate([conv1,up9], axis = 3)\n",
    "    conv9 = Conv2D(64, 3, activation = 'relu', padding = 'same', kernel_initializer = 'he_normal')(merge9)\n",
    "    conv9 = Conv2D(64, 3, activation = 'relu', padding = 'same', kernel_initializer = 'he_normal')(conv9)\n",
    "    \n",
    "    conv10 = Conv2D(len(classes), (1,1), padding='same')(conv9)  # the last layer before the mask , 1*1*classes\n",
    "    if flat:\n",
    "        output_layer = Reshape((256*256,len(classes)))(conv10)\n",
    "    else:\n",
    "        output_layer = conv10\n",
    "    output_layer = Activation('softmax')(output_layer)\n",
    "     \n",
    "\n",
    "    model = Model( inputs,output_layer)\n",
    "\n",
    "    model.compile(optimizer =tf.keras.optimizers.Adam(1e-4) , loss = 'categorical_crossentropy', metrics = ['accuracy'])\n",
    "    \n",
    "    #model.summary()\n",
    "\n",
    "    if(pretrained_weights):\n",
    "        model.load_weights(pretrained_weights)\n",
    "\n",
    "    return model"
   ]
  },
  {
   "cell_type": "code",
   "execution_count": null,
   "metadata": {},
   "outputs": [],
   "source": []
  },
  {
   "cell_type": "code",
   "execution_count": 21,
   "metadata": {},
   "outputs": [
    {
     "name": "stdout",
     "output_type": "stream",
     "text": [
      "Model: \"model\"\n",
      "__________________________________________________________________________________________________\n",
      " Layer (type)                   Output Shape         Param #     Connected to                     \n",
      "==================================================================================================\n",
      " input_1 (InputLayer)           [(None, 256, 256, 3  0           []                               \n",
      "                                )]                                                                \n",
      "                                                                                                  \n",
      " conv2d (Conv2D)                (None, 256, 256, 64  1792        ['input_1[0][0]']                \n",
      "                                )                                                                 \n",
      "                                                                                                  \n",
      " conv2d_1 (Conv2D)              (None, 256, 256, 64  36928       ['conv2d[0][0]']                 \n",
      "                                )                                                                 \n",
      "                                                                                                  \n",
      " max_pooling2d (MaxPooling2D)   (None, 128, 128, 64  0           ['conv2d_1[0][0]']               \n",
      "                                )                                                                 \n",
      "                                                                                                  \n",
      " conv2d_2 (Conv2D)              (None, 128, 128, 12  73856       ['max_pooling2d[0][0]']          \n",
      "                                8)                                                                \n",
      "                                                                                                  \n",
      " conv2d_3 (Conv2D)              (None, 128, 128, 12  147584      ['conv2d_2[0][0]']               \n",
      "                                8)                                                                \n",
      "                                                                                                  \n",
      " max_pooling2d_1 (MaxPooling2D)  (None, 64, 64, 128)  0          ['conv2d_3[0][0]']               \n",
      "                                                                                                  \n",
      " conv2d_4 (Conv2D)              (None, 64, 64, 256)  295168      ['max_pooling2d_1[0][0]']        \n",
      "                                                                                                  \n",
      " conv2d_5 (Conv2D)              (None, 64, 64, 256)  590080      ['conv2d_4[0][0]']               \n",
      "                                                                                                  \n",
      " max_pooling2d_2 (MaxPooling2D)  (None, 32, 32, 256)  0          ['conv2d_5[0][0]']               \n",
      "                                                                                                  \n",
      " conv2d_6 (Conv2D)              (None, 32, 32, 512)  1180160     ['max_pooling2d_2[0][0]']        \n",
      "                                                                                                  \n",
      " conv2d_7 (Conv2D)              (None, 32, 32, 512)  2359808     ['conv2d_6[0][0]']               \n",
      "                                                                                                  \n",
      " dropout (Dropout)              (None, 32, 32, 512)  0           ['conv2d_7[0][0]']               \n",
      "                                                                                                  \n",
      " max_pooling2d_3 (MaxPooling2D)  (None, 16, 16, 512)  0          ['dropout[0][0]']                \n",
      "                                                                                                  \n",
      " conv2d_8 (Conv2D)              (None, 16, 16, 1024  4719616     ['max_pooling2d_3[0][0]']        \n",
      "                                )                                                                 \n",
      "                                                                                                  \n",
      " conv2d_9 (Conv2D)              (None, 16, 16, 1024  9438208     ['conv2d_8[0][0]']               \n",
      "                                )                                                                 \n",
      "                                                                                                  \n",
      " dropout_1 (Dropout)            (None, 16, 16, 1024  0           ['conv2d_9[0][0]']               \n",
      "                                )                                                                 \n",
      "                                                                                                  \n",
      " up_sampling2d (UpSampling2D)   (None, 32, 32, 1024  0           ['dropout_1[0][0]']              \n",
      "                                )                                                                 \n",
      "                                                                                                  \n",
      " conv2d_10 (Conv2D)             (None, 32, 32, 512)  2097664     ['up_sampling2d[0][0]']          \n",
      "                                                                                                  \n",
      " concatenate (Concatenate)      (None, 32, 32, 1024  0           ['dropout[0][0]',                \n",
      "                                )                                 'conv2d_10[0][0]']              \n",
      "                                                                                                  \n",
      " conv2d_11 (Conv2D)             (None, 32, 32, 512)  4719104     ['concatenate[0][0]']            \n",
      "                                                                                                  \n",
      " conv2d_12 (Conv2D)             (None, 32, 32, 512)  2359808     ['conv2d_11[0][0]']              \n",
      "                                                                                                  \n",
      " up_sampling2d_1 (UpSampling2D)  (None, 64, 64, 512)  0          ['conv2d_12[0][0]']              \n",
      "                                                                                                  \n",
      " conv2d_13 (Conv2D)             (None, 64, 64, 256)  524544      ['up_sampling2d_1[0][0]']        \n",
      "                                                                                                  \n",
      " concatenate_1 (Concatenate)    (None, 64, 64, 512)  0           ['conv2d_5[0][0]',               \n",
      "                                                                  'conv2d_13[0][0]']              \n",
      "                                                                                                  \n",
      " conv2d_14 (Conv2D)             (None, 64, 64, 256)  1179904     ['concatenate_1[0][0]']          \n",
      "                                                                                                  \n",
      " conv2d_15 (Conv2D)             (None, 64, 64, 256)  590080      ['conv2d_14[0][0]']              \n",
      "                                                                                                  \n",
      " up_sampling2d_2 (UpSampling2D)  (None, 128, 128, 25  0          ['conv2d_15[0][0]']              \n",
      "                                6)                                                                \n",
      "                                                                                                  \n",
      " conv2d_16 (Conv2D)             (None, 128, 128, 12  131200      ['up_sampling2d_2[0][0]']        \n",
      "                                8)                                                                \n",
      "                                                                                                  \n",
      " concatenate_2 (Concatenate)    (None, 128, 128, 25  0           ['conv2d_3[0][0]',               \n",
      "                                6)                                'conv2d_16[0][0]']              \n",
      "                                                                                                  \n",
      " conv2d_17 (Conv2D)             (None, 128, 128, 12  295040      ['concatenate_2[0][0]']          \n",
      "                                8)                                                                \n",
      "                                                                                                  \n",
      " conv2d_18 (Conv2D)             (None, 128, 128, 12  147584      ['conv2d_17[0][0]']              \n",
      "                                8)                                                                \n",
      "                                                                                                  \n",
      " up_sampling2d_3 (UpSampling2D)  (None, 256, 256, 12  0          ['conv2d_18[0][0]']              \n",
      "                                8)                                                                \n",
      "                                                                                                  \n",
      " conv2d_19 (Conv2D)             (None, 256, 256, 64  32832       ['up_sampling2d_3[0][0]']        \n",
      "                                )                                                                 \n",
      "                                                                                                  \n",
      " concatenate_3 (Concatenate)    (None, 256, 256, 12  0           ['conv2d_1[0][0]',               \n",
      "                                8)                                'conv2d_19[0][0]']              \n",
      "                                                                                                  \n",
      " conv2d_20 (Conv2D)             (None, 256, 256, 64  73792       ['concatenate_3[0][0]']          \n",
      "                                )                                                                 \n",
      "                                                                                                  \n",
      " conv2d_21 (Conv2D)             (None, 256, 256, 64  36928       ['conv2d_20[0][0]']              \n",
      "                                )                                                                 \n",
      "                                                                                                  \n",
      " conv2d_22 (Conv2D)             (None, 256, 256, 32  2080        ['conv2d_21[0][0]']              \n",
      "                                )                                                                 \n",
      "                                                                                                  \n",
      " activation (Activation)        (None, 256, 256, 32  0           ['conv2d_22[0][0]']              \n",
      "                                )                                                                 \n",
      "                                                                                                  \n",
      "==================================================================================================\n",
      "Total params: 31,033,760\n",
      "Trainable params: 31,033,760\n",
      "Non-trainable params: 0\n",
      "__________________________________________________________________________________________________\n"
     ]
    }
   ],
   "source": [
    "model = unet(len(classes))\n",
    "model.summary()"
   ]
  },
  {
   "cell_type": "code",
   "execution_count": 22,
   "metadata": {},
   "outputs": [],
   "source": [
    "from keras.preprocessing.image import load_img\n",
    "def load_raw_CAMVID(data_type='train', enc='ohe', shape='normal'):\n",
    "    img_path = data_type + '/'\n",
    "    labels_path = data_type + '_labels/'\n",
    "  # without adding target_size=(256,256) in load_img we get Out of mem: 421x960x720x32x4bytes is around 34GB!\n",
    "    x = np.array([np.array(load_img(str(img_path) + file, target_size=(256,256)))*1./255 for file in sorted(os.listdir(img_path))])\n",
    "    if(enc=='ohe'):\n",
    "    \n",
    "        y = np.array([np.array(load_img(str(labels_path) + file, target_size=(256,256))) for file in sorted(os.listdir(labels_path))])\n",
    "    elif(enc=='sparse_cat'):\n",
    "        y = np.array([np.array(load_img(str(labels_path) + file, target_size=(256,256))) for file in sorted(os.listdir(labels_path))])\n",
    "    if(shape == 'flat'):\n",
    "        y = np.reshape(y.shape[0], y.shape[1]*y.shape[2])\n",
    "        y = np.expand_dims(y, axis=-1)\n",
    "    return x, y\n",
    "\n",
    "## Notee : we did do the adjust Mask Here on ( y ) because we will do it in the Generator function "
   ]
  },
  {
   "cell_type": "code",
   "execution_count": null,
   "metadata": {},
   "outputs": [],
   "source": []
  },
  {
   "cell_type": "code",
   "execution_count": 23,
   "metadata": {},
   "outputs": [
    {
     "name": "stdout",
     "output_type": "stream",
     "text": [
      "Time elapsed:  11.489366054534912\n"
     ]
    }
   ],
   "source": [
    "import time\n",
    "start = time.time()\n",
    "X_train, Y_train = load_raw_CAMVID(data_type='train')           # load camvid returns x , y  , x for xTrain , y for yTrain\n",
    "#x_test, y_test = load_CAMVID(data_type='test')# Don't load test for RAM consumption\n",
    "X_val, Y_val = load_raw_CAMVID(data_type='val')\n",
    "end = time.time()\n",
    "print('Time elapsed: ', end-start)\n"
   ]
  },
  {
   "cell_type": "code",
   "execution_count": 24,
   "metadata": {},
   "outputs": [
    {
     "name": "stdout",
     "output_type": "stream",
     "text": [
      "(369, 256, 256, 3)\n",
      "(369, 256, 256, 3)\n",
      "(100, 256, 256, 3)\n",
      "(100, 256, 256, 3)\n"
     ]
    }
   ],
   "source": [
    "print(X_train.shape)\n",
    "print(Y_train.shape)\n",
    "#print(x_test.shape)\n",
    "#print(y_test.shape)\n",
    "print(X_val.shape)\n",
    "print(Y_val.shape)"
   ]
  },
  {
   "cell_type": "code",
   "execution_count": 25,
   "metadata": {},
   "outputs": [],
   "source": [
    "# Data generator\n",
    "batch_sz = 4\n",
    "#https://keras.io/preprocessing/image/\n",
    "from keras.preprocessing.image import ImageDataGenerator\n",
    "# we create two instances with the same arguments\n",
    "\n",
    "# VI Note: use the same seed for image_datagen and mask_datagen to ensure the transformation for image and mask is the same\n",
    "data_gen_args = dict(rotation_range=0.2,\n",
    "                    width_shift_range=0.05,\n",
    "                    height_shift_range=0.05,\n",
    "                    shear_range=0.05,\n",
    "                    zoom_range=0.05,\n",
    "                    horizontal_flip=True,\n",
    "                    fill_mode='nearest')\n",
    "                    #rescale=1./255)# Data is already scaled when loaded\n",
    "\n",
    "mask_gen_args = dict(rotation_range=0.2,\n",
    "                    width_shift_range=0.05,\n",
    "                    height_shift_range=0.05,\n",
    "                    shear_range=0.05,\n",
    "                    zoom_range=0.05,\n",
    "                    horizontal_flip=True,\n",
    "                    fill_mode='nearest')\n",
    "                    #preprocessing_function=adjust_mask)# This is not possible since the preprocessing_function can only return the same shape as image\n",
    "\n",
    "image_datagen = ImageDataGenerator(**data_gen_args)\n",
    "mask_datagen  = ImageDataGenerator(**mask_gen_args) \n",
    "\n",
    "# Provide the same seed and keyword arguments to the fit and flow methods\n",
    "seed = 1\n",
    "#image_datagen.fit(images, augment=True, seed=seed)\n",
    "#mask_datagen.fit(masks, augment=True, seed=seed)\n",
    "\n",
    "image_generator = image_datagen.flow(\n",
    "    X_train,\n",
    "    seed=seed,\n",
    "    batch_size=batch_sz)\n",
    "\n",
    "mask_generator = mask_datagen.flow( \n",
    "    Y_train,\n",
    "    seed=seed,\n",
    "    batch_size=batch_sz)\n",
    "\n",
    "# combine generators into one which yields image and masks\n",
    "train_generator = zip(image_generator, mask_generator)\n",
    "\n"
   ]
  },
  {
   "cell_type": "code",
   "execution_count": 26,
   "metadata": {},
   "outputs": [],
   "source": [
    "\n",
    "def train_generator_fn():\n",
    "\n",
    "    for (img,mask) in train_generator:\n",
    "        new_mask = adjust_mask(mask)\n",
    "        yield (img,new_mask)  \n",
    "        \n",
    "val_image_generator = image_datagen.flow(\n",
    "    X_val,\n",
    "    seed=seed,\n",
    "    batch_size=batch_sz)\n",
    "\n",
    "val_mask_generator = mask_datagen.flow(\n",
    "    Y_val,\n",
    "    seed=seed,\n",
    "    batch_size=batch_sz)\n",
    "\n",
    "# combine generators into one which yields image and masks\n",
    "val_generator = zip(val_image_generator, val_mask_generator)        \n",
    "        \n",
    "def val_generator_fn():\n",
    "\n",
    "    for (img,mask) in val_generator:\n",
    "        new_mask = adjust_mask(mask)\n",
    "        yield (img,new_mask)  \n"
   ]
  },
  {
   "cell_type": "code",
   "execution_count": 27,
   "metadata": {},
   "outputs": [],
   "source": [
    "view = 0\n",
    "batch_sz = 4\n",
    "epochs = 7\n",
    "steps_per_epoch = 120\n",
    "validation_steps = 30"
   ]
  },
  {
   "cell_type": "code",
   "execution_count": 28,
   "metadata": {},
   "outputs": [],
   "source": [
    "from keras.callbacks import ReduceLROnPlateau ,EarlyStopping ,ModelCheckpoint\n",
    "reduce_lr = ReduceLROnPlateau(\n",
    "    monitor = \"val_accuracy\", \n",
    "    patience = 2,\n",
    "    verbose = 1, \n",
    "    factor = 0.5, \n",
    "    min_lr = 0.000000001\n",
    ")\n",
    "\n",
    "early_stopping = EarlyStopping(\n",
    "    monitor = \"val_accuracy\",\n",
    "    patience = 5,\n",
    "    verbose = 1,\n",
    "    mode = \"max\",\n",
    ")\n",
    "\n",
    "checkpoint = ModelCheckpoint(\n",
    "    monitor = \"val_accuracy\",\n",
    "    filepath = \"Camvid.hdf5\",\n",
    "    verbose = 1,\n",
    "    save_best_only = True, \n",
    "    save_weights_only = True\n",
    ")\n",
    "callbacks= [reduce_lr]"
   ]
  },
  {
   "cell_type": "code",
   "execution_count": null,
   "metadata": {},
   "outputs": [],
   "source": []
  },
  {
   "cell_type": "code",
   "execution_count": 29,
   "metadata": {},
   "outputs": [
    {
     "name": "stderr",
     "output_type": "stream",
     "text": [
      "<ipython-input-29-936697bf67cd>:1: UserWarning: `Model.fit_generator` is deprecated and will be removed in a future version. Please use `Model.fit`, which supports generators.\n",
      "  model.fit_generator(train_generator_fn(),\n"
     ]
    },
    {
     "name": "stdout",
     "output_type": "stream",
     "text": [
      "Epoch 1/2\n",
      "120/120 [==============================] - 85s 601ms/step - loss: 1.7200 - accuracy: 0.4696 - val_loss: 1.2113 - val_accuracy: 0.6066 - lr: 1.0000e-04\n",
      "Epoch 2/2\n",
      "120/120 [==============================] - 67s 562ms/step - loss: 1.0867 - accuracy: 0.6114 - val_loss: 1.0276 - val_accuracy: 0.6427 - lr: 1.0000e-04\n"
     ]
    },
    {
     "data": {
      "text/plain": [
       "<keras.callbacks.History at 0x276faac2c10>"
      ]
     },
     "execution_count": 29,
     "metadata": {},
     "output_type": "execute_result"
    }
   ],
   "source": [
    "model.fit_generator(train_generator_fn(),\n",
    "                    validation_data=val_generator_fn(),\n",
    "                    steps_per_epoch=len(X_train)//batch_sz,\n",
    "                    validation_steps=len(X_val)//batch_sz,\n",
    "                    epochs=200,\n",
    "                    callbacks=callbacks)"
   ]
  },
  {
   "cell_type": "code",
   "execution_count": 30,
   "metadata": {},
   "outputs": [],
   "source": [
    "def visualize_seg(img, gt_mask, shape='normal', gt_mode='sparse'):\n",
    "    plt.figure(1)\n",
    "  \n",
    "  # Img\n",
    "    plt.subplot(311)\n",
    "    plt.imshow(img)\n",
    "  \n",
    "  # Predict\n",
    "    pred_mask = model.predict(np.expand_dims(img, 0))\n",
    "    pred_mask = np.argmax(pred_mask, axis=-1)\n",
    "    pred_mask = pred_mask[0]\n",
    "    if shape=='flat':\n",
    "        pred_mask = np.reshape(pred_mask, (256,256)) # Reshape only if you use the flat model. O.w. you dont need\n",
    "  \n",
    "    rgb_mask = np.apply_along_axis(map_class_to_rgb, -1, np.expand_dims(pred_mask, -1))\n",
    "  \n",
    "  # Prediction\n",
    "    plt.subplot(312)\n",
    "    plt.imshow(rgb_mask)\n",
    "              \n",
    "  # GT mask\n",
    "    if gt_mode == 'ohe':\n",
    "        gt_img_ohe = np.argmax(gt_mask, axis=-1)\n",
    "        gt_mask = np.apply_along_axis(map_class_to_rgb, -1, np.expand_dims(gt_img_ohe, -1))              \n",
    "  \n",
    "    plt.subplot(313)\n",
    "    plt.imshow((gt_mask).astype(np.uint8))"
   ]
  },
  {
   "cell_type": "code",
   "execution_count": 31,
   "metadata": {},
   "outputs": [
    {
     "data": {
      "image/png": "[encoded data removed]",
      "text/plain": [
       "<Figure size 432x288 with 3 Axes>"
      ]
     },
     "metadata": {
      "needs_background": "light"
     },
     "output_type": "display_data"
    }
   ],
   "source": [
    "img = next(val_image_generator)[0]\n",
    "gt_img = next(val_mask_generator)[0]\n",
    "visualize_seg(img, gt_img, gt_mode='sparse')"
   ]
  },
  {
   "cell_type": "code",
   "execution_count": null,
   "metadata": {},
   "outputs": [],
   "source": []
  },
  {
   "cell_type": "code",
   "execution_count": null,
   "metadata": {},
   "outputs": [],
   "source": []
  },
  {
   "cell_type": "code",
   "execution_count": null,
   "metadata": {},
   "outputs": [],
   "source": []
  },
  {
   "cell_type": "code",
   "execution_count": null,
   "metadata": {},
   "outputs": [],
   "source": []
  },
  {
   "cell_type": "code",
   "execution_count": null,
   "metadata": {},
   "outputs": [],
   "source": []
  },
  {
   "cell_type": "code",
   "execution_count": null,
   "metadata": {},
   "outputs": [],
   "source": [
    "\n"
   ]
  },
  {
   "cell_type": "code",
   "execution_count": null,
   "metadata": {},
   "outputs": [],
   "source": []
  }
 ],
 "metadata": {
  "kernelspec": {
   "display_name": "Python 3",
   "language": "python",
   "name": "python3"
  },
  "language_info": {
   "codemirror_mode": {
    "name": "ipython",
    "version": 3
   },
   "file_extension": ".py",
   "mimetype": "text/x-python",
   "name": "python",
   "nbconvert_exporter": "python",
   "pygments_lexer": "ipython3",
   "version": "3.8.5"
  }
 },
 "nbformat": 4,
 "nbformat_minor": 4
}
